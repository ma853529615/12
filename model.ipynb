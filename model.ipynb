{
 "cells": [
  {
   "cell_type": "code",
   "execution_count": 25,
   "metadata": {},
   "outputs": [],
   "source": [
    "import numpy as np\n",
    "import pandas as pd\n",
    "import random\n",
    "import copy\n",
    "import matplotlib.pyplot as plt\n",
    "import math\n",
    "import cvxopt.solvers\n",
    "import numpy.linalg as la\n",
    "import logging\n",
    "\n",
    "from sklearn.utils import shuffle\n",
    "from tqdm import tqdm_notebook "
   ]
  },
  {
   "cell_type": "code",
   "execution_count": 26,
   "metadata": {},
   "outputs": [],
   "source": [
    "class Chromosome:\n",
    " \n",
    "    def __init__(self,  vardim, bound):\n",
    "\n",
    "        self.vardim = vardim\n",
    "        self.bound = bound\n",
    "        self.fitness = 0.\n",
    " \n",
    "    def generate(self):\n",
    "\n",
    "        len = self.vardim\n",
    "        rnd1 = np.random.random(size=len)-0.5\n",
    "        rnd2 = np.random.random(size=len)-0.5\n",
    "        self.chrom = np.zeros(len)\n",
    "        self.cig = np.zeros(len)\n",
    "        for i in range(0, len):\n",
    "            self.chrom[i] = self.bound[0, i] + \\\n",
    "                (self.bound[1, i] - self.bound[0, i]) * rnd1[i]\n",
    "            self.cig[i] = self.bound[0, i] + \\\n",
    "                (self.bound[1, i] - self.bound[0, i]) * rnd2[i]\n",
    "        \n",
    "    def calculateFitness(self,dataset):\n",
    "        \n",
    "        self.fitness = SVMResult(\n",
    "            self.vardim, self.chrom, self.bound, dataset)\n",
    "        \n",
    "    def print_(self):\n",
    "        \n",
    "        print(\"chrome\".format(self.chrom))\n",
    "        print(\"cigma\".format(self.cig))"
   ]
  },
  {
   "cell_type": "code",
   "execution_count": 39,
   "metadata": {},
   "outputs": [],
   "source": [
    "class GA:\n",
    " \n",
    "    def __init__(self, sizepop, vardim, bound, MAXGEN, params, k, patience):\n",
    "        \n",
    "        self.q = 0\n",
    "        self.patience = patience  #引入早停\n",
    "        self.remain = sizepop\n",
    "        self.realsize = self.remain\n",
    "        self.sizepop = self.remain*k\n",
    "        self.MAXGEN = MAXGEN\n",
    "        self.vardim = vardim\n",
    "        self.bound = bound\n",
    "        self.k = k\n",
    "        self.population = []\n",
    "        self.fitness = np.zeros((self.sizepop, 1))\n",
    "        self.trace = np.zeros((self.MAXGEN, 2))\n",
    "        self.params = params\n",
    "        self.dataset = self.creat_dataset(pd.read_csv(\"diabetes.csv\"))\n",
    "        self.lr = 0.1\n",
    "        self.flag = 0\n",
    "        self.resize = []\n",
    "    def creat_dataset(self, df):\n",
    "        \n",
    "        df = shuffle(df)\n",
    "        size = len(df)\n",
    "        df['split'] = 0\n",
    "        df.iloc[0:math.ceil(0.7*size),-1] = 'train'\n",
    "        #df.iloc[math.ceil(0.7*size):math.ceil(0.85*size), -1] = 'test'\n",
    "        df.iloc[math.ceil(0.15*size):size, -1] = 'val' #调高验证集比例\n",
    "\n",
    "        return df\n",
    " \n",
    "    def initialize(self):\n",
    "        \n",
    "        for i in range(0, self.remain):\n",
    "            chrom = Chromosome(self.vardim, self.bound)\n",
    "            chrom.generate()\n",
    "            self.population = np.append(self.population, chrom)\n",
    "        self.population = np.array(self.population) \n",
    "        \n",
    "    def evaluate(self):\n",
    "        \n",
    "        fitness = []\n",
    "        for i in tqdm_notebook(range(0, self.realsize)):\n",
    "            self.population[i].calculateFitness(self.dataset)\n",
    "            #print(\"###/n\")\n",
    "            fitness.append(self.population[i].fitness)\n",
    "        self.fitness = np.array(fitness)\n",
    "        best_idx = np.argmax(self.fitness)\n",
    "        self.best_score = self.fitness[best_idx]\n",
    "        self.best = self.population[best_idx]\n",
    "        \n",
    "    def start(self):\n",
    "        \n",
    "        self.t = 0\n",
    "        self.initialize()\n",
    "        self.evaluate()\n",
    "        p = 0\n",
    "        self.best_fitness = 0\n",
    "        self.last_best = self.best_fitness\n",
    "        best = np.max(self.fitness)\n",
    "        bestIndex = np.argmax(self.fitness)\n",
    "        self.best = copy.deepcopy(self.population[bestIndex])\n",
    "        self.ever_best = self.best\n",
    "        self.avefitness = np.mean(self.fitness)\n",
    "        self.trace[self.t, 0] = self.best_fitness\n",
    "        self.trace[self.t, 1] = self.avefitness\n",
    "        while (self.t < self.MAXGEN - 1):\n",
    "            if self.best.fitness>self.best_fitness:\n",
    "                self.p=0\n",
    "                self.ever_best = self.best\n",
    "                self.best_fitness = self.ever_best.fitness\n",
    "            elif self.best.fitness==self.ever_best.fitness\\\n",
    "                    or self.best.fitness==self.last_best:\n",
    "                print(p)\n",
    "                p += 1\n",
    "            if p==self.patience:\n",
    "                self.q+=5\n",
    "                self.lr = 0.1\n",
    "                self.k += 1\n",
    "                self.remain += 5\n",
    "                self.realsize = self.remain\n",
    "                self.sizepop = self.remain*self.k\n",
    "                p = 0\n",
    "                self.flag = 1\n",
    "                print(\"学习率重置\")\n",
    "                self.resize.append(self.t)\n",
    "            print(\"第{}代\".format(self.t))\n",
    "            print(\"本代最好的染色体: {}\".format(self.population[bestIndex].chrom))\n",
    "            print(\"本代最高分: {}\".format(self.population[bestIndex].fitness))\n",
    "            print(\"历史最高分: {}\".format(self.best_fitness))\n",
    "            self.t += 1\n",
    "            self.crossover()\n",
    "            self.mutation()\n",
    "            self.evaluate()\n",
    "            self.selection()\n",
    "            self.last_best = self.best.fitness\n",
    "            best = np.max(self.fitness)\n",
    "            bestIndex = np.argmax(self.fitness)\n",
    "            self.best = copy.deepcopy(self.population[bestIndex])\n",
    "            self.avefitness = np.mean(self.fitness)\n",
    "            self.trace[self.t, 0] = self.best_fitness\n",
    "            self.trace[self.t, 1] = self.avefitness\n",
    "            \n",
    "        print(self.best.chrom)\n",
    "        self.show()\n",
    " \n",
    "    def selection(self):\n",
    "        \n",
    "        sort_idx = np.argsort(self.fitness, axis=0).reshape(1,-1)[0]\n",
    "        top_idx = sort_idx[len(self.fitness)-self.remain-1:-1]\n",
    "        new_fitness = copy.deepcopy(self.fitness[top_idx])\n",
    "        self.fitness = new_fitness\n",
    "        new = copy.deepcopy(self.population[top_idx]) \n",
    "        self.population  = new\n",
    "        self.realsize = len(self.population)\n",
    "    \n",
    "    \"\"\"\n",
    "     def selection(self):\n",
    "     \n",
    "        #软选择\n",
    "        #print(\"max: {}\".format(np.argmax(self.fitness)))\n",
    "        #print(self.fitness)\n",
    "        sort_idx = np.argsort(self.fitness, axis=0).reshape(1,-1)[0]\n",
    "        #print(sort_idx[0:self.remain])\n",
    "        new = copy.deepcopy(self.population[sort_idx[0:self.remain]])\n",
    "        self.population  = new\n",
    "        self.realsize = len(self.population)\n",
    "        #print(self.realsize)\n",
    "    \"\"\"\n",
    "    \n",
    "    def crossover(self):\n",
    "        \n",
    "        newpop = []\n",
    "        for i in range(self.sizepop-self.remain-self.q+5):\n",
    "            if self.flag==1:\n",
    "                idx1 = random.randint(0, self.remain - 5 - 1)\n",
    "                idx2 = random.randint(0, self.remain - 5 - 1)\n",
    "                flag = 0\n",
    "            else:\n",
    "                idx1 = random.randint(0, self.remain - 1)\n",
    "                idx2 = random.randint(0, self.remain - 1)\n",
    "            while idx2 == idx1:\n",
    "                idx2 = random.randint(0, self.remain - 1)\n",
    "            new = copy.deepcopy(self.population[idx1])\n",
    "            new.chrom += self.population[idx2].chrom\n",
    "            new.chrom /= 2\n",
    "            new.cig += self.population[idx2].cig\n",
    "            new.cig /= 2\n",
    "            self.population = np.append(self.population, new)\n",
    "            \n",
    "        for i in range(self.remain+self.q-1):\n",
    "            new = Chromosome(self.vardim, self.bound)\n",
    "            new.generate()\n",
    "            self.population = np.append(self.population, new)\n",
    "        self.realsize = len(self.population)\n",
    "        \n",
    "    def mutation(self):\n",
    "        \n",
    "        newpop = []\n",
    "        self.lr *= 0.9\n",
    "        for i in range(0, self.sizepop-1):\n",
    "            p = random.random()-0.5\n",
    "            newpop.append(copy.deepcopy(self.population[i]))\n",
    "            rand = random.random()-0.5\n",
    "            for j in range(0, self.vardim):\n",
    "                \n",
    "                randn = random.random()-0.5\n",
    "                flag = 1\n",
    "                while newpop[i].cig[j]==0 or flag==1:\n",
    "                    flag = 0\n",
    "                    newpop[i].cig[j] = newpop[i].cig[j]*np.exp(rand+randn)\n",
    "                newpop[i].chrom[j] = newpop[i].\\\n",
    "                    cig[j]+newpop[i].cig[j]*randn*self.lr \n",
    "                \n",
    "        newpop.append(self.best)        \n",
    "        \n",
    "        self.population = np.array(newpop)\n",
    "        self.realsize = len(self.population)\n",
    " \n",
    "    def show(self):\n",
    "        \n",
    "        x = np.arange(0, self.MAXGEN) \n",
    "        y1 = self.trace[:, 0]\n",
    "        y2 = self.trace[:, 1]\n",
    "        plt.plot(x, y1, 'r', label='best')\n",
    "        plt.plot(x, y2, 'g', label='ave')\n",
    "        plt.xlabel(\"iter\")\n",
    "        plt.ylabel(\"acc\")\n",
    "        plt.ylim((0.6,0.85))\n",
    "        plt.title(\"Optim process\")\n",
    "        plt.legend()\n",
    "        plt.show()\n"
   ]
  },
  {
   "cell_type": "code",
   "execution_count": 33,
   "metadata": {},
   "outputs": [],
   "source": [
    "MIN_SUPPORT_VECTOR_MULTIPLIER = 1e-5\n",
    "\n",
    "class SVM(object):\n",
    "    def __init__(self, c, gamma):\n",
    "        \n",
    "        self.gamma = gamma\n",
    "        self._c = c\n",
    "\n",
    "    def train(self, X, y):\n",
    "        \n",
    "        lagrange_multipliers = self._qp_solver(X, y)\n",
    "        return self._construct_predictor(X, y, lagrange_multipliers)\n",
    "\n",
    "    def _gram_matrix(self, X):\n",
    "        \n",
    "        n_samples, n_features = X.shape\n",
    "        K = np.zeros((n_samples, n_samples))\n",
    "        \n",
    "        for i, x_i in enumerate(X):\n",
    "            for j, x_j in enumerate(X):\n",
    "                K[i, j] = self._rbf_kernel(x_i, x_j)\n",
    "        return K\n",
    "\n",
    "    def _construct_predictor(self, X, y, lagrange_multipliers):\n",
    "        \n",
    "        support_vector_indices = \\\n",
    "            lagrange_multipliers > 1e-5\n",
    "\n",
    "        support_multipliers = lagrange_multipliers[support_vector_indices]\n",
    "        support_vectors = X[support_vector_indices]\n",
    "        support_vector_labels = y[support_vector_indices]\n",
    "        \n",
    "        bias = np.mean(\n",
    "            [y_k - SVMPredictor(\n",
    "                kernel=self._kernel,\n",
    "                bias=0.0,\n",
    "                weights=support_multipliers,\n",
    "                support_vectors=support_vectors,\n",
    "                support_vector_labels=support_vector_labels).predict(x_k)\n",
    "             for (y_k, x_k) in zip(support_vector_labels, support_vectors)])\n",
    "\n",
    "        return SVMPredictor(\n",
    "            kernel=self._kernel,\n",
    "            bias=bias,\n",
    "            weights=support_multipliers,\n",
    "            support_vectors=support_vectors,\n",
    "            support_vector_labels=support_vector_labels)\n",
    "\n",
    "    def _qp_solver(self, X, y):\n",
    "        \n",
    "        n_samples, n_features = X.shape\n",
    "\n",
    "        K = self._gram_matrix(X)\n",
    "        \n",
    "        P = cvxopt.matrix(np.outer(y, y) * K)\n",
    "        q = cvxopt.matrix(-1 * np.ones(n_samples))\n",
    "        \n",
    "        G_std = cvxopt.matrix(np.diag(np.ones(n_samples) * -1))\n",
    "        h_std = cvxopt.matrix(np.zeros(n_samples))\n",
    "\n",
    "        G_slack = cvxopt.matrix(np.diag(np.ones(n_samples)))\n",
    "        h_slack = cvxopt.matrix(np.ones(n_samples) * self._c)\n",
    "\n",
    "        G = cvxopt.matrix(np.vstack((G_std, G_slack)))\n",
    "        h = cvxopt.matrix(np.vstack((h_std, h_slack)))\n",
    "        A = cvxopt.matrix(np.double(y), (1, n_samples))\n",
    "        b = cvxopt.matrix(0.0)\n",
    "        \n",
    "        solution = cvxopt.solvers.qp(P, q, G, h, A, b)\n",
    "\n",
    "        return np.ravel(solution['x'])\n",
    "    \n",
    "    def _rbf_kernel(self):\n",
    "        \n",
    "        return lambda x, y: np.exp(-self.gamma*\\\n",
    "                                   la.norm(np.subtract(x, y)))\n",
    "        \n",
    "class SVMPredictor(object):\n",
    "    \n",
    "    def __init__(self,\n",
    "                 kernel,\n",
    "                 bias,\n",
    "                 weights,\n",
    "                 support_vectors,\n",
    "                 support_vector_labels):\n",
    "        \n",
    "        self._kernel = kernel\n",
    "        self._bias = bias\n",
    "        self._weights = weights         #shape = (sv_num, )\n",
    "        self._support_vectors = support_vectors       #shape = (sv_num, feature, )\n",
    "        self._support_vector_labels = support_vector_labels    #shape = (sv_num, )\n",
    "        self._s = np.array([alpha*y for alpha,y in zip(self._weights,self._support_vector_labels)]) #shape = (sv_num, )\n",
    "\n",
    "    def predict(self, x):\n",
    "        \n",
    "        result = self._bias\n",
    "        for z_i, x_i, y_i in zip(self._weights,\n",
    "                                 self._support_vectors,\n",
    "                                 self._support_vector_labels):\n",
    "            result += z_i * y_i * self._kernel(x_i, x)\n",
    "        return np.sign(result).item()\n",
    "    \n",
    "    def predict_vec(self, X):\n",
    "        \"\"\"\n",
    "        X.shape = (batch, feature)\n",
    "        \"\"\"\n",
    "        \n",
    "        k = np.array([[self._kernel(x_i, X_j) for x_i in self._support_vectors] for X_j in X])  #shape = (batch, sv_num, )\n",
    "        score = np.dot(k, self._s.reshape(-1,1))  #shape = (batch, )\n",
    "        return np.sign(score.reshape(-1,1))\n",
    "            \n",
    "        "
   ]
  },
  {
   "cell_type": "code",
   "execution_count": 35,
   "metadata": {},
   "outputs": [],
   "source": [
    "def score(y_bar, val_y):\n",
    "    \n",
    "    Error = 0\n",
    "    for i in range(len(y_bar)):\n",
    "        miss=abs(y_bar[i-1]-val_y[i-1])\n",
    "        Error += miss\n",
    "        \n",
    "    return 1-(Error / len(y_bar))\n",
    " \n",
    "def SVMResult(vardim, x, bound, dataset):\n",
    "    \n",
    "    X = dataset.loc[dataset['split'] == 'train'].iloc[:,0:-2].values\n",
    "    y = dataset.loc[dataset['split'] == 'train'].iloc[:,-2].values\n",
    "    val_X = dataset.loc[dataset['split'] == 'val'].iloc[:,0:-2].values\n",
    "    val_y = dataset.loc[dataset['split'] == 'val'].iloc[:,-2].values\n",
    "    c = abs(x[0])\n",
    "    g = abs(x[1])\n",
    "    #f = x[2]#四参数\n",
    "    svm = SVM(C = c, gamma = g)\n",
    "    predictor = svm.train(X, y)\n",
    "    y_bar = predictor.predict_vec(val_X)  \n",
    "    \n",
    "    return score(y_bar, val_y)\n"
   ]
  },
  {
   "cell_type": "code",
   "execution_count": 45,
   "metadata": {},
   "outputs": [
    {
     "name": "stderr",
     "output_type": "stream",
     "text": [
      "W:\\conda\\lib\\site-packages\\ipykernel_launcher.py:26: SettingWithCopyWarning: \n",
      "A value is trying to be set on a copy of a slice from a DataFrame.\n",
      "Try using .loc[row_indexer,col_indexer] = value instead\n",
      "\n",
      "See the caveats in the documentation: http://pandas.pydata.org/pandas-docs/stable/indexing.html#indexing-view-versus-copy\n",
      "W:\\conda\\lib\\site-packages\\pandas\\core\\indexing.py:543: SettingWithCopyWarning: \n",
      "A value is trying to be set on a copy of a slice from a DataFrame.\n",
      "Try using .loc[row_indexer,col_indexer] = value instead\n",
      "\n",
      "See the caveats in the documentation: http://pandas.pydata.org/pandas-docs/stable/indexing.html#indexing-view-versus-copy\n",
      "  self.obj[item] = s\n"
     ]
    },
    {
     "data": {
      "application/vnd.jupyter.widget-view+json": {
       "model_id": "23b3b0c69a5845cda89e234c03309d2f",
       "version_major": 2,
       "version_minor": 0
      },
      "text/plain": [
       "HBox(children=(IntProgress(value=0, max=10), HTML(value='')))"
      ]
     },
     "metadata": {},
     "output_type": "display_data"
    },
    {
     "name": "stdout",
     "output_type": "stream",
     "text": [
      "\n",
      "第0代\n",
      "本代最好的染色体: [ 1.96493041 -0.00935568]\n",
      "本代最高分: 0.6595092024539877\n",
      "历史最高分: 0.6595092024539877\n"
     ]
    },
    {
     "data": {
      "application/vnd.jupyter.widget-view+json": {
       "model_id": "b3a992f9b6c34af8a406beea4b0a92b3",
       "version_major": 2,
       "version_minor": 0
      },
      "text/plain": [
       "HBox(children=(IntProgress(value=0, max=70), HTML(value='')))"
      ]
     },
     "metadata": {},
     "output_type": "display_data"
    },
    {
     "name": "stdout",
     "output_type": "stream",
     "text": [
      "\n",
      "第1代\n",
      "本代最好的染色体: [0.87522969 0.01489835]\n",
      "本代最高分: 0.656441717791411\n",
      "历史最高分: 0.6595092024539877\n"
     ]
    },
    {
     "data": {
      "application/vnd.jupyter.widget-view+json": {
       "model_id": "ff5409ec1ea24d84807b14fd581bdacf",
       "version_major": 2,
       "version_minor": 0
      },
      "text/plain": [
       "HBox(children=(IntProgress(value=0, max=70), HTML(value='')))"
      ]
     },
     "metadata": {},
     "output_type": "display_data"
    },
    {
     "name": "stdout",
     "output_type": "stream",
     "text": [
      "\n",
      "第2代\n",
      "本代最好的染色体: [4.95193175 0.03744127]\n",
      "本代最高分: 0.656441717791411\n",
      "历史最高分: 0.6595092024539877\n"
     ]
    },
    {
     "data": {
      "application/vnd.jupyter.widget-view+json": {
       "model_id": "e0ba981535fc4d818adb759a12209543",
       "version_major": 2,
       "version_minor": 0
      },
      "text/plain": [
       "HBox(children=(IntProgress(value=0, max=70), HTML(value='')))"
      ]
     },
     "metadata": {},
     "output_type": "display_data"
    },
    {
     "name": "stdout",
     "output_type": "stream",
     "text": [
      "\n",
      "第3代\n",
      "本代最好的染色体: [6.76997692e+00 6.63108351e-04]\n",
      "本代最高分: 0.6855828220858895\n",
      "历史最高分: 0.6855828220858895\n"
     ]
    },
    {
     "data": {
      "application/vnd.jupyter.widget-view+json": {
       "model_id": "0223c785f9654adfab068b2f46635d8a",
       "version_major": 2,
       "version_minor": 0
      },
      "text/plain": [
       "HBox(children=(IntProgress(value=0, max=70), HTML(value='')))"
      ]
     },
     "metadata": {},
     "output_type": "display_data"
    },
    {
     "name": "stdout",
     "output_type": "stream",
     "text": [
      "\n",
      "第4代\n",
      "本代最好的染色体: [1.60057895e+00 8.95815071e-04]\n",
      "本代最高分: 0.7116564417177914\n",
      "历史最高分: 0.7116564417177914\n"
     ]
    },
    {
     "data": {
      "application/vnd.jupyter.widget-view+json": {
       "model_id": "d08c0982dc6e4bbabafc982175a16aff",
       "version_major": 2,
       "version_minor": 0
      },
      "text/plain": [
       "HBox(children=(IntProgress(value=0, max=70), HTML(value='')))"
      ]
     },
     "metadata": {},
     "output_type": "display_data"
    },
    {
     "name": "stdout",
     "output_type": "stream",
     "text": [
      "\n",
      "第5代\n",
      "本代最好的染色体: [8.19404900e-01 7.66924465e-04]\n",
      "本代最高分: 0.7177914110429449\n",
      "历史最高分: 0.7177914110429449\n"
     ]
    },
    {
     "data": {
      "application/vnd.jupyter.widget-view+json": {
       "model_id": "2d05e796b7534ba8ad620308795fdd20",
       "version_major": 2,
       "version_minor": 0
      },
      "text/plain": [
       "HBox(children=(IntProgress(value=0, max=70), HTML(value='')))"
      ]
     },
     "metadata": {},
     "output_type": "display_data"
    },
    {
     "name": "stdout",
     "output_type": "stream",
     "text": [
      "\n",
      "第6代\n",
      "本代最好的染色体: [ 1.54849152e+00 -1.53965222e-04]\n",
      "本代最高分: 0.7346625766871165\n",
      "历史最高分: 0.7346625766871165\n"
     ]
    },
    {
     "data": {
      "application/vnd.jupyter.widget-view+json": {
       "model_id": "dcc91c9f6fb34f989be80ca18b8a58af",
       "version_major": 2,
       "version_minor": 0
      },
      "text/plain": [
       "HBox(children=(IntProgress(value=0, max=70), HTML(value='')))"
      ]
     },
     "metadata": {},
     "output_type": "display_data"
    },
    {
     "name": "stdout",
     "output_type": "stream",
     "text": [
      "\n",
      "第7代\n",
      "本代最好的染色体: [3.30846155e+00 3.24845265e-05]\n",
      "本代最高分: 0.745398773006135\n",
      "历史最高分: 0.745398773006135\n"
     ]
    },
    {
     "data": {
      "application/vnd.jupyter.widget-view+json": {
       "model_id": "798eff2d6dbd468085e656655b708bb2",
       "version_major": 2,
       "version_minor": 0
      },
      "text/plain": [
       "HBox(children=(IntProgress(value=0, max=70), HTML(value='')))"
      ]
     },
     "metadata": {},
     "output_type": "display_data"
    },
    {
     "name": "stdout",
     "output_type": "stream",
     "text": [
      "\n",
      "第8代\n",
      "本代最好的染色体: [ 3.65012275e+00 -1.51571080e-05]\n",
      "本代最高分: 0.7561349693251533\n",
      "历史最高分: 0.7561349693251533\n"
     ]
    },
    {
     "data": {
      "application/vnd.jupyter.widget-view+json": {
       "model_id": "c05152e28e944d48a4db11772d537982",
       "version_major": 2,
       "version_minor": 0
      },
      "text/plain": [
       "HBox(children=(IntProgress(value=0, max=70), HTML(value='')))"
      ]
     },
     "metadata": {},
     "output_type": "display_data"
    },
    {
     "name": "stdout",
     "output_type": "stream",
     "text": [
      "\n",
      "0\n",
      "第9代\n",
      "本代最好的染色体: [ 4.48092739e+00 -1.50887223e-05]\n",
      "本代最高分: 0.7561349693251533\n",
      "历史最高分: 0.7561349693251533\n"
     ]
    },
    {
     "data": {
      "application/vnd.jupyter.widget-view+json": {
       "model_id": "1afac8cdb49a428ebdce87cfcbb7367b",
       "version_major": 2,
       "version_minor": 0
      },
      "text/plain": [
       "HBox(children=(IntProgress(value=0, max=70), HTML(value='')))"
      ]
     },
     "metadata": {},
     "output_type": "display_data"
    },
    {
     "name": "stdout",
     "output_type": "stream",
     "text": [
      "\n",
      "第10代\n",
      "本代最好的染色体: [1.03321062e+01 1.21631447e-05]\n",
      "本代最高分: 0.75920245398773\n",
      "历史最高分: 0.75920245398773\n"
     ]
    },
    {
     "data": {
      "application/vnd.jupyter.widget-view+json": {
       "model_id": "7cc23ea1be344111a350c8fdc0be00b4",
       "version_major": 2,
       "version_minor": 0
      },
      "text/plain": [
       "HBox(children=(IntProgress(value=0, max=70), HTML(value='')))"
      ]
     },
     "metadata": {},
     "output_type": "display_data"
    },
    {
     "name": "stdout",
     "output_type": "stream",
     "text": [
      "\n",
      "1\n",
      "第11代\n",
      "本代最好的染色体: [ 9.37219637e+00 -1.13846519e-05]\n",
      "本代最高分: 0.75920245398773\n",
      "历史最高分: 0.75920245398773\n"
     ]
    },
    {
     "data": {
      "application/vnd.jupyter.widget-view+json": {
       "model_id": "9adb5b0c61804d98b46c5d3474bd753f",
       "version_major": 2,
       "version_minor": 0
      },
      "text/plain": [
       "HBox(children=(IntProgress(value=0, max=70), HTML(value='')))"
      ]
     },
     "metadata": {},
     "output_type": "display_data"
    },
    {
     "name": "stdout",
     "output_type": "stream",
     "text": [
      "\n",
      "第12代\n",
      "本代最好的染色体: [ 1.30397631e+01 -1.05868011e-05]\n",
      "本代最高分: 0.7607361963190185\n",
      "历史最高分: 0.7607361963190185\n"
     ]
    },
    {
     "data": {
      "application/vnd.jupyter.widget-view+json": {
       "model_id": "b9b27a3efe94406fbabf5eaf63b3b719",
       "version_major": 2,
       "version_minor": 0
      },
      "text/plain": [
       "HBox(children=(IntProgress(value=0, max=70), HTML(value='')))"
      ]
     },
     "metadata": {},
     "output_type": "display_data"
    },
    {
     "name": "stdout",
     "output_type": "stream",
     "text": [
      "\n",
      "第13代\n",
      "本代最好的染色体: [ 1.92358435e+01 -1.01333538e-05]\n",
      "本代最高分: 0.7638036809815951\n",
      "历史最高分: 0.7638036809815951\n"
     ]
    },
    {
     "data": {
      "application/vnd.jupyter.widget-view+json": {
       "model_id": "8ed8caa3d0af40ee88de1bc6d2d801e5",
       "version_major": 2,
       "version_minor": 0
      },
      "text/plain": [
       "HBox(children=(IntProgress(value=0, max=70), HTML(value='')))"
      ]
     },
     "metadata": {},
     "output_type": "display_data"
    },
    {
     "name": "stdout",
     "output_type": "stream",
     "text": [
      "\n",
      "2\n",
      "第14代\n",
      "本代最好的染色体: [ 1.92410852e+01 -1.06230076e-05]\n",
      "本代最高分: 0.7638036809815951\n",
      "历史最高分: 0.7638036809815951\n"
     ]
    },
    {
     "data": {
      "application/vnd.jupyter.widget-view+json": {
       "model_id": "3b8644a8dc8c4d8287be6abfa6de30e0",
       "version_major": 2,
       "version_minor": 0
      },
      "text/plain": [
       "HBox(children=(IntProgress(value=0, max=70), HTML(value='')))"
      ]
     },
     "metadata": {},
     "output_type": "display_data"
    },
    {
     "name": "stdout",
     "output_type": "stream",
     "text": [
      "\n",
      "3\n",
      "第15代\n",
      "本代最好的染色体: [ 3.30766034e+01 -1.02835992e-05]\n",
      "本代最高分: 0.7638036809815951\n",
      "历史最高分: 0.7638036809815951\n"
     ]
    },
    {
     "data": {
      "application/vnd.jupyter.widget-view+json": {
       "model_id": "25f47de94f2b4443abaabece3977cc43",
       "version_major": 2,
       "version_minor": 0
      },
      "text/plain": [
       "HBox(children=(IntProgress(value=0, max=70), HTML(value='')))"
      ]
     },
     "metadata": {},
     "output_type": "display_data"
    },
    {
     "name": "stdout",
     "output_type": "stream",
     "text": [
      "\n",
      "第16代\n",
      "本代最好的染色体: [ 2.49932183e+01 -9.91824238e-06]\n",
      "本代最高分: 0.7653374233128835\n",
      "历史最高分: 0.7653374233128835\n"
     ]
    },
    {
     "data": {
      "application/vnd.jupyter.widget-view+json": {
       "model_id": "ebeb27898bda4a8a90e6aea458119e0f",
       "version_major": 2,
       "version_minor": 0
      },
      "text/plain": [
       "HBox(children=(IntProgress(value=0, max=70), HTML(value='')))"
      ]
     },
     "metadata": {},
     "output_type": "display_data"
    },
    {
     "name": "stdout",
     "output_type": "stream",
     "text": [
      "\n",
      "第17代\n",
      "本代最好的染色体: [ 3.69877045e+01 -5.72997492e-06]\n",
      "本代最高分: 0.7684049079754601\n",
      "历史最高分: 0.7684049079754601\n"
     ]
    },
    {
     "data": {
      "application/vnd.jupyter.widget-view+json": {
       "model_id": "fc129cb0548c48769838deb618a4a210",
       "version_major": 2,
       "version_minor": 0
      },
      "text/plain": [
       "HBox(children=(IntProgress(value=0, max=70), HTML(value='')))"
      ]
     },
     "metadata": {},
     "output_type": "display_data"
    },
    {
     "name": "stdout",
     "output_type": "stream",
     "text": [
      "\n",
      "第18代\n",
      "本代最好的染色体: [ 5.68367685e+01 -7.02975310e-06]\n",
      "本代最高分: 0.7699386503067485\n",
      "历史最高分: 0.7699386503067485\n"
     ]
    },
    {
     "data": {
      "application/vnd.jupyter.widget-view+json": {
       "model_id": "6cda519949b64bd6bdac5c18fede4e1b",
       "version_major": 2,
       "version_minor": 0
      },
      "text/plain": [
       "HBox(children=(IntProgress(value=0, max=70), HTML(value='')))"
      ]
     },
     "metadata": {},
     "output_type": "display_data"
    },
    {
     "name": "stdout",
     "output_type": "stream",
     "text": [
      "\n",
      "4\n",
      "学习率重置\n",
      "第19代\n",
      "本代最好的染色体: [ 5.68367685e+01 -7.02975310e-06]\n",
      "本代最高分: 0.7699386503067485\n",
      "历史最高分: 0.7699386503067485\n"
     ]
    },
    {
     "data": {
      "application/vnd.jupyter.widget-view+json": {
       "model_id": "1474892fe0dc4a17b1922f270f5d62d8",
       "version_major": 2,
       "version_minor": 0
      },
      "text/plain": [
       "HBox(children=(IntProgress(value=0, max=120), HTML(value='')))"
      ]
     },
     "metadata": {},
     "output_type": "display_data"
    },
    {
     "name": "stdout",
     "output_type": "stream",
     "text": [
      "\n",
      "第20代\n",
      "本代最好的染色体: [ 4.57998158e+01 -4.55636303e-06]\n",
      "本代最高分: 0.7730061349693251\n",
      "历史最高分: 0.7730061349693251\n"
     ]
    },
    {
     "data": {
      "application/vnd.jupyter.widget-view+json": {
       "model_id": "ea1667c9baa84b6c83dfc4d9975bffb7",
       "version_major": 2,
       "version_minor": 0
      },
      "text/plain": [
       "HBox(children=(IntProgress(value=0, max=120), HTML(value='')))"
      ]
     },
     "metadata": {},
     "output_type": "display_data"
    },
    {
     "name": "stdout",
     "output_type": "stream",
     "text": [
      "\n",
      "第21代\n",
      "本代最好的染色体: [ 7.13089418e+01 -6.33143688e-06]\n",
      "本代最高分: 0.7714723926380368\n",
      "历史最高分: 0.7730061349693251\n"
     ]
    },
    {
     "data": {
      "application/vnd.jupyter.widget-view+json": {
       "model_id": "970b37e6cb234282b7588f9b98d7b855",
       "version_major": 2,
       "version_minor": 0
      },
      "text/plain": [
       "HBox(children=(IntProgress(value=0, max=120), HTML(value='')))"
      ]
     },
     "metadata": {},
     "output_type": "display_data"
    },
    {
     "name": "stdout",
     "output_type": "stream",
     "text": [
      "\n",
      "0\n",
      "第22代\n",
      "本代最好的染色体: [ 6.49113888e+01 -6.57801436e-06]\n",
      "本代最高分: 0.7730061349693251\n",
      "历史最高分: 0.7730061349693251\n"
     ]
    },
    {
     "data": {
      "application/vnd.jupyter.widget-view+json": {
       "model_id": "49b192eb9443452c84c76de709e4a84a",
       "version_major": 2,
       "version_minor": 0
      },
      "text/plain": [
       "HBox(children=(IntProgress(value=0, max=120), HTML(value='')))"
      ]
     },
     "metadata": {},
     "output_type": "display_data"
    },
    {
     "name": "stdout",
     "output_type": "stream",
     "text": [
      "\n",
      "第23代\n",
      "本代最好的染色体: [ 4.54170754e+01 -4.39100843e-06]\n",
      "本代最高分: 0.7714723926380368\n",
      "历史最高分: 0.7730061349693251\n"
     ]
    },
    {
     "data": {
      "application/vnd.jupyter.widget-view+json": {
       "model_id": "1a1cd65717fb4e989ed830126740bec9",
       "version_major": 2,
       "version_minor": 0
      },
      "text/plain": [
       "HBox(children=(IntProgress(value=0, max=120), HTML(value='')))"
      ]
     },
     "metadata": {},
     "output_type": "display_data"
    },
    {
     "name": "stdout",
     "output_type": "stream",
     "text": [
      "\n",
      "第24代\n",
      "本代最好的染色体: [ 7.69333177e+01 -6.00850374e-06]\n",
      "本代最高分: 0.7714723926380368\n",
      "历史最高分: 0.7730061349693251\n"
     ]
    },
    {
     "data": {
      "application/vnd.jupyter.widget-view+json": {
       "model_id": "03673f1a90f347e08873609ef2974bc2",
       "version_major": 2,
       "version_minor": 0
      },
      "text/plain": [
       "HBox(children=(IntProgress(value=0, max=120), HTML(value='')))"
      ]
     },
     "metadata": {},
     "output_type": "display_data"
    },
    {
     "name": "stdout",
     "output_type": "stream",
     "text": [
      "\n",
      "第25代\n",
      "本代最好的染色体: [ 9.04934136e+01 -5.40892409e-06]\n",
      "本代最高分: 0.7699386503067485\n",
      "历史最高分: 0.7730061349693251\n"
     ]
    },
    {
     "data": {
      "application/vnd.jupyter.widget-view+json": {
       "model_id": "dac7959edc134bb8af8731cc039cc7a3",
       "version_major": 2,
       "version_minor": 0
      },
      "text/plain": [
       "HBox(children=(IntProgress(value=0, max=120), HTML(value='')))"
      ]
     },
     "metadata": {},
     "output_type": "display_data"
    },
    {
     "name": "stdout",
     "output_type": "stream",
     "text": [
      "\n",
      "1\n",
      "第26代\n",
      "本代最好的染色体: [ 4.41915451e+01 -4.38219086e-06]\n",
      "本代最高分: 0.7730061349693251\n",
      "历史最高分: 0.7730061349693251\n"
     ]
    },
    {
     "data": {
      "application/vnd.jupyter.widget-view+json": {
       "model_id": "aeb68472e1b0427bab0b318ab9dd52a1",
       "version_major": 2,
       "version_minor": 0
      },
      "text/plain": [
       "HBox(children=(IntProgress(value=0, max=120), HTML(value='')))"
      ]
     },
     "metadata": {},
     "output_type": "display_data"
    },
    {
     "name": "stdout",
     "output_type": "stream",
     "text": [
      "\n",
      "2\n",
      "第27代\n",
      "本代最好的染色体: [ 6.54367227e+01 -6.72871016e-06]\n",
      "本代最高分: 0.7730061349693251\n",
      "历史最高分: 0.7730061349693251\n"
     ]
    },
    {
     "data": {
      "application/vnd.jupyter.widget-view+json": {
       "model_id": "5d8f1170c6504609a574fae04b5fb336",
       "version_major": 2,
       "version_minor": 0
      },
      "text/plain": [
       "HBox(children=(IntProgress(value=0, max=120), HTML(value='')))"
      ]
     },
     "metadata": {},
     "output_type": "display_data"
    },
    {
     "name": "stdout",
     "output_type": "stream",
     "text": [
      "\n",
      "第28代\n",
      "本代最好的染色体: [ 1.43509171e+02 -3.85851851e-06]\n",
      "本代最高分: 0.7714723926380368\n",
      "历史最高分: 0.7730061349693251\n"
     ]
    },
    {
     "data": {
      "application/vnd.jupyter.widget-view+json": {
       "model_id": "904a88a040e140e7b1285cb284edceac",
       "version_major": 2,
       "version_minor": 0
      },
      "text/plain": [
       "HBox(children=(IntProgress(value=0, max=120), HTML(value='')))"
      ]
     },
     "metadata": {},
     "output_type": "display_data"
    },
    {
     "name": "stdout",
     "output_type": "stream",
     "text": [
      "\n",
      "3\n",
      "第29代\n",
      "本代最好的染色体: [ 7.89828911e+01 -6.02056613e-06]\n",
      "本代最高分: 0.7714723926380368\n",
      "历史最高分: 0.7730061349693251\n"
     ]
    },
    {
     "data": {
      "application/vnd.jupyter.widget-view+json": {
       "model_id": "499581166bff40ca84494c3ec5162963",
       "version_major": 2,
       "version_minor": 0
      },
      "text/plain": [
       "HBox(children=(IntProgress(value=0, max=120), HTML(value='')))"
      ]
     },
     "metadata": {},
     "output_type": "display_data"
    },
    {
     "name": "stdout",
     "output_type": "stream",
     "text": [
      "\n",
      "4\n",
      "学习率重置\n",
      "第30代\n",
      "本代最好的染色体: [ 1.71798419e+02 -4.11692061e-06]\n",
      "本代最高分: 0.7714723926380368\n",
      "历史最高分: 0.7730061349693251\n"
     ]
    },
    {
     "data": {
      "application/vnd.jupyter.widget-view+json": {
       "model_id": "70b1ef08723a49dca092f2bd185e0a1d",
       "version_major": 2,
       "version_minor": 0
      },
      "text/plain": [
       "HBox(children=(IntProgress(value=0, max=180), HTML(value='')))"
      ]
     },
     "metadata": {},
     "output_type": "display_data"
    },
    {
     "name": "stdout",
     "output_type": "stream",
     "text": [
      "\n",
      "0\n",
      "第31代\n",
      "本代最好的染色体: [ 7.35789237e+01 -6.17379381e-06]\n",
      "本代最高分: 0.7714723926380368\n",
      "历史最高分: 0.7730061349693251\n"
     ]
    },
    {
     "data": {
      "application/vnd.jupyter.widget-view+json": {
       "model_id": "9202dead8ad24e0db700a4988094856c",
       "version_major": 2,
       "version_minor": 0
      },
      "text/plain": [
       "HBox(children=(IntProgress(value=0, max=180), HTML(value='')))"
      ]
     },
     "metadata": {},
     "output_type": "display_data"
    },
    {
     "name": "stdout",
     "output_type": "stream",
     "text": [
      "\n",
      "1\n",
      "第32代\n",
      "本代最好的染色体: [ 1.78689330e+02 -3.58857262e-06]\n",
      "本代最高分: 0.7714723926380368\n",
      "历史最高分: 0.7730061349693251\n"
     ]
    },
    {
     "data": {
      "application/vnd.jupyter.widget-view+json": {
       "model_id": "7ff72ac84d9d4591a6fed81c38a4161e",
       "version_major": 2,
       "version_minor": 0
      },
      "text/plain": [
       "HBox(children=(IntProgress(value=0, max=180), HTML(value='')))"
      ]
     },
     "metadata": {},
     "output_type": "display_data"
    },
    {
     "name": "stdout",
     "output_type": "stream",
     "text": [
      "\n",
      "2\n",
      "第33代\n",
      "本代最好的染色体: [ 1.16992457e+02 -4.91534875e-06]\n",
      "本代最高分: 0.7714723926380368\n",
      "历史最高分: 0.7730061349693251\n"
     ]
    },
    {
     "data": {
      "application/vnd.jupyter.widget-view+json": {
       "model_id": "fdb1029c8d6d4e21bfe0bce2ebaa64c8",
       "version_major": 2,
       "version_minor": 0
      },
      "text/plain": [
       "HBox(children=(IntProgress(value=0, max=180), HTML(value='')))"
      ]
     },
     "metadata": {},
     "output_type": "display_data"
    },
    {
     "name": "stdout",
     "output_type": "stream",
     "text": [
      "\n",
      "3\n",
      "第34代\n",
      "本代最好的染色体: [ 1.55059504e+02 -3.75124684e-06]\n",
      "本代最高分: 0.7714723926380368\n",
      "历史最高分: 0.7730061349693251\n"
     ]
    },
    {
     "data": {
      "application/vnd.jupyter.widget-view+json": {
       "model_id": "6d48107c718f4021875c4d038389e1f5",
       "version_major": 2,
       "version_minor": 0
      },
      "text/plain": [
       "HBox(children=(IntProgress(value=0, max=180), HTML(value='')))"
      ]
     },
     "metadata": {},
     "output_type": "display_data"
    },
    {
     "name": "stdout",
     "output_type": "stream",
     "text": [
      "\n",
      "4\n",
      "学习率重置\n",
      "第35代\n",
      "本代最好的染色体: [ 2.00199342e+02 -3.74467859e-06]\n",
      "本代最高分: 0.7714723926380368\n",
      "历史最高分: 0.7730061349693251\n"
     ]
    },
    {
     "data": {
      "application/vnd.jupyter.widget-view+json": {
       "model_id": "c9174e636d3c4983995c55057081b940",
       "version_major": 2,
       "version_minor": 0
      },
      "text/plain": [
       "HBox(children=(IntProgress(value=0, max=250), HTML(value='')))"
      ]
     },
     "metadata": {},
     "output_type": "display_data"
    },
    {
     "name": "stdout",
     "output_type": "stream",
     "text": [
      "\n",
      "0\n",
      "第36代\n",
      "本代最好的染色体: [ 2.84099790e+02 -2.94553183e-06]\n",
      "本代最高分: 0.7714723926380368\n",
      "历史最高分: 0.7730061349693251\n"
     ]
    },
    {
     "data": {
      "application/vnd.jupyter.widget-view+json": {
       "model_id": "43ad7114528949398870bf9397f31494",
       "version_major": 2,
       "version_minor": 0
      },
      "text/plain": [
       "HBox(children=(IntProgress(value=0, max=250), HTML(value='')))"
      ]
     },
     "metadata": {},
     "output_type": "display_data"
    },
    {
     "name": "stdout",
     "output_type": "stream",
     "text": [
      "\n",
      "1\n",
      "第37代\n",
      "本代最好的染色体: [ 2.56703872e+02 -3.23824513e-06]\n",
      "本代最高分: 0.7730061349693251\n",
      "历史最高分: 0.7730061349693251\n"
     ]
    },
    {
     "data": {
      "application/vnd.jupyter.widget-view+json": {
       "model_id": "47415a6a808544fbb2fa6784c930649c",
       "version_major": 2,
       "version_minor": 0
      },
      "text/plain": [
       "HBox(children=(IntProgress(value=0, max=250), HTML(value='')))"
      ]
     },
     "metadata": {},
     "output_type": "display_data"
    },
    {
     "name": "stdout",
     "output_type": "stream",
     "text": [
      "\n",
      "第38代\n",
      "本代最好的染色体: [ 2.11924777e+02 -3.46330343e-06]\n",
      "本代最高分: 0.7714723926380368\n",
      "历史最高分: 0.7730061349693251\n"
     ]
    },
    {
     "data": {
      "application/vnd.jupyter.widget-view+json": {
       "model_id": "1db6e9b115c949e981138ff26d3487eb",
       "version_major": 2,
       "version_minor": 0
      },
      "text/plain": [
       "HBox(children=(IntProgress(value=0, max=250), HTML(value='')))"
      ]
     },
     "metadata": {},
     "output_type": "display_data"
    },
    {
     "name": "stdout",
     "output_type": "stream",
     "text": [
      "\n",
      "2\n",
      "第39代\n",
      "本代最好的染色体: [ 2.17093495e+02 -3.42438903e-06]\n",
      "本代最高分: 0.7714723926380368\n",
      "历史最高分: 0.7730061349693251\n"
     ]
    },
    {
     "data": {
      "application/vnd.jupyter.widget-view+json": {
       "model_id": "79b9680546d441e38fc4a697d8315659",
       "version_major": 2,
       "version_minor": 0
      },
      "text/plain": [
       "HBox(children=(IntProgress(value=0, max=250), HTML(value='')))"
      ]
     },
     "metadata": {},
     "output_type": "display_data"
    },
    {
     "name": "stdout",
     "output_type": "stream",
     "text": [
      "\n",
      "3\n",
      "第40代\n",
      "本代最好的染色体: [ 5.80818005e+02 -4.02479347e-06]\n",
      "本代最高分: 0.7714723926380368\n",
      "历史最高分: 0.7730061349693251\n"
     ]
    },
    {
     "data": {
      "application/vnd.jupyter.widget-view+json": {
       "model_id": "343cc513d37f4048a259be103ba6f705",
       "version_major": 2,
       "version_minor": 0
      },
      "text/plain": [
       "HBox(children=(IntProgress(value=0, max=250), HTML(value='')))"
      ]
     },
     "metadata": {},
     "output_type": "display_data"
    },
    {
     "name": "stdout",
     "output_type": "stream",
     "text": [
      "\n",
      "第41代\n",
      "本代最好的染色体: [ 2.35420147e+02 -3.33815676e-06]\n",
      "本代最高分: 0.7714723926380368\n",
      "历史最高分: 0.7730061349693251\n"
     ]
    },
    {
     "data": {
      "application/vnd.jupyter.widget-view+json": {
       "model_id": "080f95d9738148e6a8bdb39ec263ff1c",
       "version_major": 2,
       "version_minor": 0
      },
      "text/plain": [
       "HBox(children=(IntProgress(value=0, max=250), HTML(value='')))"
      ]
     },
     "metadata": {},
     "output_type": "display_data"
    },
    {
     "name": "stdout",
     "output_type": "stream",
     "text": [
      "\n",
      "4\n",
      "学习率重置\n",
      "第42代\n",
      "本代最好的染色体: [ 9.94891820e+01 -5.32717537e-06]\n",
      "本代最高分: 0.7714723926380368\n",
      "历史最高分: 0.7730061349693251\n"
     ]
    },
    {
     "data": {
      "application/vnd.jupyter.widget-view+json": {
       "model_id": "a7cde8f629294e288ac1d2792a31a8d2",
       "version_major": 2,
       "version_minor": 0
      },
      "text/plain": [
       "HBox(children=(IntProgress(value=0, max=330), HTML(value='')))"
      ]
     },
     "metadata": {},
     "output_type": "display_data"
    },
    {
     "name": "stdout",
     "output_type": "stream",
     "text": [
      "\n",
      "第43代\n",
      "本代最好的染色体: [ 2.39884498e+02 -3.22646275e-06]\n",
      "本代最高分: 0.7714723926380368\n",
      "历史最高分: 0.7730061349693251\n"
     ]
    },
    {
     "data": {
      "application/vnd.jupyter.widget-view+json": {
       "model_id": "49dd3874f9844d459d494a0789b0ceb4",
       "version_major": 2,
       "version_minor": 0
      },
      "text/plain": [
       "HBox(children=(IntProgress(value=0, max=330), HTML(value='')))"
      ]
     },
     "metadata": {},
     "output_type": "display_data"
    },
    {
     "name": "stdout",
     "output_type": "stream",
     "text": [
      "\n",
      "0\n",
      "第44代\n",
      "本代最好的染色体: [ 2.62383971e+02 -3.04473021e-06]\n",
      "本代最高分: 0.7714723926380368\n",
      "历史最高分: 0.7730061349693251\n"
     ]
    },
    {
     "data": {
      "application/vnd.jupyter.widget-view+json": {
       "model_id": "afdcde1ef31f46e3aea1d63fb922ff81",
       "version_major": 2,
       "version_minor": 0
      },
      "text/plain": [
       "HBox(children=(IntProgress(value=0, max=330), HTML(value='')))"
      ]
     },
     "metadata": {},
     "output_type": "display_data"
    },
    {
     "name": "stdout",
     "output_type": "stream",
     "text": [
      "\n",
      "1\n",
      "第45代\n",
      "本代最好的染色体: [ 2.24186552e+02 -3.40443862e-06]\n",
      "本代最高分: 0.7714723926380368\n",
      "历史最高分: 0.7730061349693251\n"
     ]
    },
    {
     "data": {
      "application/vnd.jupyter.widget-view+json": {
       "model_id": "a5c103ec7cad4bb99395be367bfbd235",
       "version_major": 2,
       "version_minor": 0
      },
      "text/plain": [
       "HBox(children=(IntProgress(value=0, max=330), HTML(value='')))"
      ]
     },
     "metadata": {},
     "output_type": "display_data"
    },
    {
     "name": "stdout",
     "output_type": "stream",
     "text": [
      "\n",
      "2\n",
      "第46代\n",
      "本代最好的染色体: [ 4.21758912e+02 -2.48120135e-06]\n",
      "本代最高分: 0.7714723926380368\n",
      "历史最高分: 0.7730061349693251\n"
     ]
    },
    {
     "data": {
      "application/vnd.jupyter.widget-view+json": {
       "model_id": "f32e1876d7b24ddd814d899d9a098338",
       "version_major": 2,
       "version_minor": 0
      },
      "text/plain": [
       "HBox(children=(IntProgress(value=0, max=330), HTML(value='')))"
      ]
     },
     "metadata": {},
     "output_type": "display_data"
    },
    {
     "name": "stdout",
     "output_type": "stream",
     "text": [
      "\n",
      "3\n",
      "第47代\n",
      "本代最好的染色体: [ 1.44830586e+02 -1.16393913e-06]\n",
      "本代最高分: 0.7714723926380368\n",
      "历史最高分: 0.7730061349693251\n"
     ]
    },
    {
     "data": {
      "application/vnd.jupyter.widget-view+json": {
       "model_id": "c87d74ed3a0c424c983b74691fec49e0",
       "version_major": 2,
       "version_minor": 0
      },
      "text/plain": [
       "HBox(children=(IntProgress(value=0, max=330), HTML(value='')))"
      ]
     },
     "metadata": {},
     "output_type": "display_data"
    },
    {
     "name": "stdout",
     "output_type": "stream",
     "text": [
      "\n",
      "4\n",
      "学习率重置\n",
      "第48代\n",
      "本代最好的染色体: [ 2.08321908e+02 -3.58653309e-06]\n",
      "本代最高分: 0.7714723926380368\n",
      "历史最高分: 0.7730061349693251\n"
     ]
    },
    {
     "data": {
      "application/vnd.jupyter.widget-view+json": {
       "model_id": "3bee3ddc1e424a7589f734f5c634ff5b",
       "version_major": 2,
       "version_minor": 0
      },
      "text/plain": [
       "HBox(children=(IntProgress(value=0, max=420), HTML(value='')))"
      ]
     },
     "metadata": {},
     "output_type": "display_data"
    },
    {
     "name": "stdout",
     "output_type": "stream",
     "text": [
      "\n",
      "[ 2.31843486e+02 -3.35201180e-06]\n"
     ]
    },
    {
     "data": {
      "image/png": "[encoded data removed]",
      "text/plain": [
       "<Figure size 432x288 with 1 Axes>"
      ]
     },
     "metadata": {
      "needs_background": "light"
     },
     "output_type": "display_data"
    }
   ],
   "source": [
    "boundary = np.array([[0,0],[20, 2]])\n",
    "ga = GA(10, 2, boundary, 50, [0.5, 0.1, 0.5], 7, 5)\n",
    "ga.start()"
   ]
  },
  {
   "cell_type": "code",
   "execution_count": 477,
   "metadata": {},
   "outputs": [],
   "source": [
    "b = np.array(b[:51])"
   ]
  },
  {
   "cell_type": "code",
   "execution_count": null,
   "metadata": {},
   "outputs": [],
   "source": []
  }
 ],
 "metadata": {
  "kernelspec": {
   "display_name": "Python 3",
   "language": "python",
   "name": "python3"
  },
  "language_info": {
   "codemirror_mode": {
    "name": "ipython",
    "version": 3
   },
   "file_extension": ".py",
   "mimetype": "text/x-python",
   "name": "python",
   "nbconvert_exporter": "python",
   "pygments_lexer": "ipython3",
   "version": "3.7.3"
  },
  "toc": {
   "base_numbering": 1,
   "nav_menu": {},
   "number_sections": true,
   "sideBar": true,
   "skip_h1_title": false,
   "title_cell": "Table of Contents",
   "title_sidebar": "Contents",
   "toc_cell": false,
   "toc_position": {},
   "toc_section_display": true,
   "toc_window_display": false
  }
 },
 "nbformat": 4,
 "nbformat_minor": 2
}
